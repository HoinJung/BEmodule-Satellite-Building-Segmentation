{
 "cells": [
  {
   "cell_type": "code",
   "execution_count": 1,
   "metadata": {},
   "outputs": [],
   "source": [
    "from torch import optim\n",
    "from torch import nn\n",
    "\n",
    "import re\n",
    "import random\n",
    "from matplotlib import pyplot as plt\n",
    "\n",
    "\n",
    "class Model(nn.Module):\n",
    "\n",
    "    def __init__(self):\n",
    "        super(Model, self).__init__()\n",
    "        self.linear1 = nn.Linear(5, 3)\n",
    "\n",
    "    def forward(self, x):\n",
    "        return self.linear1(x)"
   ]
  },
  {
   "cell_type": "code",
   "execution_count": 2,
   "metadata": {},
   "outputs": [],
   "source": [
    "model = Model()\n",
    "\n",
    "optimizer = optim.Adam(model.parameters(), lr=1.0)"
   ]
  },
  {
   "cell_type": "code",
   "execution_count": 3,
   "metadata": {},
   "outputs": [
    {
     "data": {
      "image/png": "[encoded data removed]",
      "text/plain": [
       "<Figure size 432x288 with 1 Axes>"
      ]
     },
     "metadata": {
      "needs_background": "light"
     },
     "output_type": "display_data"
    }
   ],
   "source": [
    "scheduler = torch.optim.lr_scheduler.MultiStepLR(optimizer=optimizer,\n",
    "                                   milestones=[2, 5, 10, 11, 28],\n",
    "                                   gamma=0.5)\n",
    "\n",
    "lr_list = []\n",
    "\n",
    "for epoch in range(1, 30+1):\n",
    "    #if str(scheduler_name) == 'ReduceLROnPlateau':\n",
    "    #    scheduler.step(random.randint(1, 50))\n",
    "    #else:\n",
    "    scheduler.step()\n",
    "\n",
    "    lr = optimizer.param_groups[0]['lr']\n",
    "    # print('epoch: {:3d}, lr={:.6f}'.format(epoch, lr))\n",
    "    lr_list.append(lr)\n",
    "\n",
    "plt.subplot(1, 1, 1)\n",
    "\n",
    "#plt.title(scheduler_name)\n",
    "plt.ylim(0, 1.1)\n",
    "plt.plot(lr_list)\n",
    "\n",
    "plt.show()"
   ]
  },
  {
   "cell_type": "code",
   "execution_count": null,
   "metadata": {},
   "outputs": [],
   "source": []
  }
 ],
 "metadata": {
  "kernelspec": {
   "display_name": "Python 3",
   "language": "python",
   "name": "python3"
  },
  "language_info": {
   "codemirror_mode": {
    "name": "ipython",
    "version": 3
   },
   "file_extension": ".py",
   "mimetype": "text/x-python",
   "name": "python",
   "nbconvert_exporter": "python",
   "pygments_lexer": "ipython3",
   "version": "3.7.8"
  }
 },
 "nbformat": 4,
 "nbformat_minor": 2
}
