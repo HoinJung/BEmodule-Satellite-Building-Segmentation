{
 "cells": [
  {
   "cell_type": "code",
   "execution_count": 1,
   "metadata": {},
   "outputs": [],
   "source": [
    "from torch import optim\n",
    "from torch import nn\n",
    "\n",
    "import re\n",
    "import random\n",
    "from matplotlib import pyplot as plt\n",
    "\n",
    "\n",
    "class Model(nn.Module):\n",
    "\n",
    "    def __init__(self):\n",
    "        super(Model, self).__init__()\n",
    "        self.linear1 = nn.Linear(5, 3)\n",
    "\n",
    "    def forward(self, x):\n",
    "        return self.linear1(x)"
   ]
  },
  {
   "cell_type": "code",
   "execution_count": 2,
   "metadata": {},
   "outputs": [],
   "source": [
    "model = Model()\n",
    "\n",
    "optimizer = optim.Adam(model.parameters(), lr=1.0)\n",
    "\n",
    "\n",
    "scheduler_list = [\n",
    "#     optim.lr_scheduler.ReduceLROnPlateau(optimizer=optimizer,\n",
    "#                                          mode='min',\n",
    "#                                          factor=0.5,\n",
    "#                                          patience=3, ), # 이외에도 인자가 많다. 찾아보자.\n",
    "#     optim.lr_scheduler.LambdaLR(optimizer=optimizer,\n",
    "#                                 lr_lambda=lambda epoch: 1 / (epoch+1)),\n",
    "#     optim.lr_scheduler.StepLR(optimizer=optimizer,\n",
    "#                               step_size=5,\n",
    "#                               gamma=0.5),\n",
    "    optim.lr_scheduler.MultiStepLR(optimizer=optimizer,\n",
    "                                   milestones=[2, 5, 10, 11, 28],\n",
    "                                   gamma=0.5),\n",
    "#     optim.lr_scheduler.ExponentialLR(optimizer=optimizer,\n",
    "#                                      gamma=0.5),\n",
    "#     optim.lr_scheduler.CosineAnnealingLR(optimizer=optimizer,\n",
    "#                                          T_max=10,\n",
    "#                                          eta_min=0),\n",
    "]\n",
    "\n",
    "#reObj = re.compile(r'<torch\\.optim\\.lr_scheduler\\.(.+) object.*>')"
   ]
  },
  {
   "cell_type": "code",
   "execution_count": 3,
   "metadata": {},
   "outputs": [
    {
     "ename": "SyntaxError",
     "evalue": "unexpected character after line continuation character (<ipython-input-3-419d64ec27ae>, line 1)",
     "output_type": "error",
     "traceback": [
      "\u001b[0;36m  File \u001b[0;32m\"<ipython-input-3-419d64ec27ae>\"\u001b[0;36m, line \u001b[0;32m1\u001b[0m\n\u001b[0;31m    for i, scheduler in enumerate(\\_list):\u001b[0m\n\u001b[0m                                          ^\u001b[0m\n\u001b[0;31mSyntaxError\u001b[0m\u001b[0;31m:\u001b[0m unexpected character after line continuation character\n"
     ]
    }
   ],
   "source": [
    "for i, scheduler in enumerate(scheduler_list):\n",
    "    scheduler_name = reObj.match(str(scheduler)).group(1)\n",
    "    print(scheduler_name)\n",
    "\n",
    "    lr_list = []\n",
    "\n",
    "    for epoch in range(1, 30+1):\n",
    "        if str(scheduler_name) == 'ReduceLROnPlateau':\n",
    "            scheduler.step(random.randint(1, 50))\n",
    "        else:\n",
    "            scheduler.step()\n",
    "\n",
    "        lr = optimizer.param_groups[0]['lr']\n",
    "        # print('epoch: {:3d}, lr={:.6f}'.format(epoch, lr))\n",
    "        lr_list.append(lr)\n",
    "\n",
    "    plt.subplot(3, 2, i + 1)\n",
    "\n",
    "    plt.title(scheduler_name)\n",
    "    plt.ylim(0, 1.1)\n",
    "    plt.plot(lr_list)\n",
    "\n",
    "plt.show()"
   ]
  },
  {
   "cell_type": "code",
   "execution_count": null,
   "metadata": {},
   "outputs": [],
   "source": []
  }
 ],
 "metadata": {
  "kernelspec": {
   "display_name": "Python 3",
   "language": "python",
   "name": "python3"
  },
  "language_info": {
   "codemirror_mode": {
    "name": "ipython",
    "version": 3
   },
   "file_extension": ".py",
   "mimetype": "text/x-python",
   "name": "python",
   "nbconvert_exporter": "python",
   "pygments_lexer": "ipython3",
   "version": "3.7.8"
  }
 },
 "nbformat": 4,
 "nbformat_minor": 2
}
