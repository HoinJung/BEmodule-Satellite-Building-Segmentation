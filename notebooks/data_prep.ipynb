{
 "cells": [
  {
   "cell_type": "code",
   "execution_count": 7,
   "metadata": {},
   "outputs": [],
   "source": [
    "# Dataset location (edit as needed)\n",
    "import os\n",
    "import pandas as pd\n",
    "root_dir = '../'"
   ]
  },
  {
   "cell_type": "code",
   "execution_count": 8,
   "metadata": {},
   "outputs": [
    {
     "name": "stdout",
     "output_type": "stream",
     "text": [
      "3.7.10 (default, Feb 26 2021, 18:47:35) \n",
      "[GCC 7.3.0]\n",
      "Python 3.7.10\n"
     ]
    }
   ],
   "source": [
    "import sys\n",
    "print(sys.version)\n",
    "!python --version"
   ]
  },
  {
   "cell_type": "code",
   "execution_count": 12,
   "metadata": {},
   "outputs": [
    {
     "data": {
      "text/html": [
       "<div>\n",
       "<style scoped>\n",
       "    .dataframe tbody tr th:only-of-type {\n",
       "        vertical-align: middle;\n",
       "    }\n",
       "\n",
       "    .dataframe tbody tr th {\n",
       "        vertical-align: top;\n",
       "    }\n",
       "\n",
       "    .dataframe thead th {\n",
       "        text-align: right;\n",
       "    }\n",
       "</style>\n",
       "<table border=\"1\" class=\"dataframe\">\n",
       "  <thead>\n",
       "    <tr style=\"text-align: right;\">\n",
       "      <th></th>\n",
       "      <th>image</th>\n",
       "      <th>label</th>\n",
       "    </tr>\n",
       "  </thead>\n",
       "  <tbody>\n",
       "    <tr>\n",
       "      <th>0</th>\n",
       "      <td>../data/Train/Urban3D_Train/RGB/_10_JAX_Tile_0...</td>\n",
       "      <td>../data/Train/Urban3D_Train/masks/_10_JAX_Tile...</td>\n",
       "    </tr>\n",
       "    <tr>\n",
       "      <th>1</th>\n",
       "      <td>../data/Train/Urban3D_Train/RGB/_10_JAX_Tile_0...</td>\n",
       "      <td>../data/Train/Urban3D_Train/masks/_10_JAX_Tile...</td>\n",
       "    </tr>\n",
       "    <tr>\n",
       "      <th>2</th>\n",
       "      <td>../data/Train/Urban3D_Train/RGB/_10_JAX_Tile_0...</td>\n",
       "      <td>../data/Train/Urban3D_Train/masks/_10_JAX_Tile...</td>\n",
       "    </tr>\n",
       "    <tr>\n",
       "      <th>3</th>\n",
       "      <td>../data/Train/Urban3D_Train/RGB/_10_JAX_Tile_0...</td>\n",
       "      <td>../data/Train/Urban3D_Train/masks/_10_JAX_Tile...</td>\n",
       "    </tr>\n",
       "    <tr>\n",
       "      <th>4</th>\n",
       "      <td>../data/Train/Urban3D_Train/RGB/_10_JAX_Tile_0...</td>\n",
       "      <td>../data/Train/Urban3D_Train/masks/_10_JAX_Tile...</td>\n",
       "    </tr>\n",
       "  </tbody>\n",
       "</table>\n",
       "</div>"
      ],
      "text/plain": [
       "                                               image  \\\n",
       "0  ../data/Train/Urban3D_Train/RGB/_10_JAX_Tile_0...   \n",
       "1  ../data/Train/Urban3D_Train/RGB/_10_JAX_Tile_0...   \n",
       "2  ../data/Train/Urban3D_Train/RGB/_10_JAX_Tile_0...   \n",
       "3  ../data/Train/Urban3D_Train/RGB/_10_JAX_Tile_0...   \n",
       "4  ../data/Train/Urban3D_Train/RGB/_10_JAX_Tile_0...   \n",
       "\n",
       "                                               label  \n",
       "0  ../data/Train/Urban3D_Train/masks/_10_JAX_Tile...  \n",
       "1  ../data/Train/Urban3D_Train/masks/_10_JAX_Tile...  \n",
       "2  ../data/Train/Urban3D_Train/masks/_10_JAX_Tile...  \n",
       "3  ../data/Train/Urban3D_Train/masks/_10_JAX_Tile...  \n",
       "4  ../data/Train/Urban3D_Train/masks/_10_JAX_Tile...  "
      ]
     },
     "metadata": {},
     "output_type": "display_data"
    },
    {
     "name": "stdout",
     "output_type": "stream",
     "text": [
      "output csv: ../csvs/Urban3D_Train_df.csv\n"
     ]
    }
   ],
   "source": [
    "# Make dataframe csvs for train/test\n",
    "\n",
    "out_dir = os.path.join(root_dir, 'csvs/')\n",
    "os.makedirs(out_dir, exist_ok=True)\n",
    "# data_dir = 'Test/Urban3D_Test'\n",
    "data_dir = 'Train/Urban3D_Train'\n",
    "\n",
    "\n",
    "d = os.path.join(root_dir, 'data', data_dir)\n",
    "subdirs = sorted([f for f in os.listdir(d)])    \n",
    "outpath = os.path.join(out_dir, data_dir.split('/')[1] + '_df.csv')\n",
    "im_list, mask_list = [], []\n",
    "\n",
    "\n",
    "im_files = [os.path.join( d,'RGB',  f.split('.')[0] + '.tif')\n",
    "for f in sorted(os.listdir(os.path.join(d,'RGB' )))]\n",
    "\n",
    "mask_files = [os.path.join(d, 'masks', f.split('.')[0] + '.tif')\n",
    "for f in sorted(os.listdir(os.path.join(d, 'masks')))]\n",
    "\n",
    "\n",
    "im_list.extend(im_files)\n",
    "mask_list.extend(mask_files)\n",
    "\n",
    "\n",
    "df = pd.DataFrame({'image': im_list, 'label': mask_list})\n",
    "display(df.head())\n",
    "\n",
    "df.to_csv(outpath, index=False)\n",
    "\n",
    "print(\"output csv:\", outpath)"
   ]
  }
 ],
 "metadata": {
  "kernelspec": {
   "display_name": "Python 3 (ipykernel)",
   "language": "python",
   "name": "python3"
  },
  "language_info": {
   "codemirror_mode": {
    "name": "ipython",
    "version": 3
   },
   "file_extension": ".py",
   "mimetype": "text/x-python",
   "name": "python",
   "nbconvert_exporter": "python",
   "pygments_lexer": "ipython3",
   "version": "3.7.10"
  }
 },
 "nbformat": 4,
 "nbformat_minor": 4
}
