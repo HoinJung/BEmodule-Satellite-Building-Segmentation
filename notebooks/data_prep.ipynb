{
 "cells": [
  {
   "cell_type": "markdown",
   "metadata": {},
   "source": [
    "# Prepare SpaceNet 7 Data for Model Training\n",
    "\n",
    "We assume that initial steps of README have been executed and that this notebook is running in a docker container.  See the `src` directory for functions used in the algorithm.  "
   ]
  },
  {
   "cell_type": "code",
   "execution_count": 1,
   "metadata": {},
   "outputs": [],
   "source": [
    "# Dataset location (edit as needed)\n",
    "root_dir = '../'"
   ]
  },
  {
   "cell_type": "code",
   "execution_count": 2,
   "metadata": {},
   "outputs": [
    {
     "name": "stdout",
     "output_type": "stream",
     "text": [
      "3.7.8 | packaged by conda-forge | (default, Nov 17 2020, 23:45:15) \n",
      "[GCC 7.5.0]\n",
      "Python 3.7.8\n"
     ]
    }
   ],
   "source": [
    "import sys\n",
    "print(sys.version)\n",
    "!python --version"
   ]
  },
  {
   "cell_type": "code",
   "execution_count": 3,
   "metadata": {},
   "outputs": [
    {
     "name": "stdout",
     "output_type": "stream",
     "text": [
      "3.7.8\n"
     ]
    }
   ],
   "source": [
    "from platform import python_version\n",
    "print(python_version())"
   ]
  },
  {
   "cell_type": "code",
   "execution_count": 4,
   "metadata": {},
   "outputs": [
    {
     "name": "stderr",
     "output_type": "stream",
     "text": [
      "/home/hoyin/anaconda3/envs/solaris2/lib/python3.7/site-packages/tensorflow/python/framework/dtypes.py:526: FutureWarning: Passing (type, 1) or '1type' as a synonym of type is deprecated; in a future version of numpy, it will be understood as (type, (1,)) / '(1,)type'.\n",
      "  _np_qint8 = np.dtype([(\"qint8\", np.int8, 1)])\n",
      "/home/hoyin/anaconda3/envs/solaris2/lib/python3.7/site-packages/tensorflow/python/framework/dtypes.py:527: FutureWarning: Passing (type, 1) or '1type' as a synonym of type is deprecated; in a future version of numpy, it will be understood as (type, (1,)) / '(1,)type'.\n",
      "  _np_quint8 = np.dtype([(\"quint8\", np.uint8, 1)])\n",
      "/home/hoyin/anaconda3/envs/solaris2/lib/python3.7/site-packages/tensorflow/python/framework/dtypes.py:528: FutureWarning: Passing (type, 1) or '1type' as a synonym of type is deprecated; in a future version of numpy, it will be understood as (type, (1,)) / '(1,)type'.\n",
      "  _np_qint16 = np.dtype([(\"qint16\", np.int16, 1)])\n",
      "/home/hoyin/anaconda3/envs/solaris2/lib/python3.7/site-packages/tensorflow/python/framework/dtypes.py:529: FutureWarning: Passing (type, 1) or '1type' as a synonym of type is deprecated; in a future version of numpy, it will be understood as (type, (1,)) / '(1,)type'.\n",
      "  _np_quint16 = np.dtype([(\"quint16\", np.uint16, 1)])\n",
      "/home/hoyin/anaconda3/envs/solaris2/lib/python3.7/site-packages/tensorflow/python/framework/dtypes.py:530: FutureWarning: Passing (type, 1) or '1type' as a synonym of type is deprecated; in a future version of numpy, it will be understood as (type, (1,)) / '(1,)type'.\n",
      "  _np_qint32 = np.dtype([(\"qint32\", np.int32, 1)])\n",
      "/home/hoyin/anaconda3/envs/solaris2/lib/python3.7/site-packages/tensorflow/python/framework/dtypes.py:535: FutureWarning: Passing (type, 1) or '1type' as a synonym of type is deprecated; in a future version of numpy, it will be understood as (type, (1,)) / '(1,)type'.\n",
      "  np_resource = np.dtype([(\"resource\", np.ubyte, 1)])\n"
     ]
    }
   ],
   "source": [
    "import multiprocessing\n",
    "import pandas as pd\n",
    "import numpy as np\n",
    "import skimage\n",
    "import gdal\n",
    "import sys\n",
    "import os\n",
    "sys.path.append(os.path.dirname(os.path.abspath(os.path.dirname(\"__file__\"))))\n",
    "import matplotlib as mpl\n",
    "import matplotlib.cm as cmx\n",
    "import matplotlib.pyplot as plt\n",
    "import matplotlib.colors as colors\n",
    "plt.rcParams.update({'font.size': 16})\n",
    "mpl.rcParams['figure.dpi'] = 300\n",
    "import vector\n",
    "# get_list = os.listdir(os.path.join('../data/train/AOI_5_Khartoum_Train/RGB-PanSharpen/'))\n",
    "# print(len(get_list))\n",
    "from raster.image import create_multiband_geotiff\n",
    "from utils.core import _check_gdf_load\n",
    "\n",
    "# import from data_prep_funcs\n",
    "module_path = os.path.abspath(os.path.join('../src/'))\n",
    "if module_path not in sys.path:\n",
    "    sys.path.append(module_path)\n",
    "from src.prep_funcs import map_wrapper, make_geojsons_and_masks"
   ]
  },
  {
   "cell_type": "code",
   "execution_count": 7,
   "metadata": {},
   "outputs": [
    {
     "name": "stdout",
     "output_type": "stream",
     "text": [
      "0 aoi: AOI_2_Vegas_Train\n"
     ]
    },
    {
     "ename": "FileNotFoundError",
     "evalue": "[Errno 2] No such file or directory: '../data/Train/AOI_2_Vegas_Train/geojson/buildings'",
     "output_type": "error",
     "traceback": [
      "\u001b[0;31m---------------------------------------------------------------------------\u001b[0m",
      "\u001b[0;31mFileNotFoundError\u001b[0m                         Traceback (most recent call last)",
      "\u001b[0;32m<ipython-input-7-4c26db704cf8>\u001b[0m in \u001b[0;36m<module>\u001b[0;34m\u001b[0m\n\u001b[1;32m     30\u001b[0m \u001b[0;34m\u001b[0m\u001b[0m\n\u001b[1;32m     31\u001b[0m     json_files = sorted([f\n\u001b[0;32m---> 32\u001b[0;31m                 \u001b[0;32mfor\u001b[0m \u001b[0mf\u001b[0m \u001b[0;32min\u001b[0m \u001b[0mos\u001b[0m\u001b[0;34m.\u001b[0m\u001b[0mlistdir\u001b[0m\u001b[0;34m(\u001b[0m\u001b[0mos\u001b[0m\u001b[0;34m.\u001b[0m\u001b[0mpath\u001b[0m\u001b[0;34m.\u001b[0m\u001b[0mjoin\u001b[0m\u001b[0;34m(\u001b[0m\u001b[0mjson_dir\u001b[0m\u001b[0;34m)\u001b[0m\u001b[0;34m)\u001b[0m\u001b[0;34m\u001b[0m\u001b[0;34m\u001b[0m\u001b[0m\n\u001b[0m\u001b[1;32m     33\u001b[0m \u001b[0;31m#                 if f.endswith('Buildings.geojson') and os.path.exists(os.path.join(json_dir, f))])\u001b[0m\u001b[0;34m\u001b[0m\u001b[0;34m\u001b[0m\u001b[0;34m\u001b[0m\u001b[0m\n\u001b[1;32m     34\u001b[0m                 if f.endswith('.geojson') and os.path.exists(os.path.join(json_dir, f))])\n",
      "\u001b[0;31mFileNotFoundError\u001b[0m: [Errno 2] No such file or directory: '../data/Train/AOI_2_Vegas_Train/geojson/buildings'"
     ]
    }
   ],
   "source": [
    "# Create Training Masks\n",
    "# Multi-thread to increase speed\n",
    "# We'll only make a 1-channel mask for now, but Solaris supports a multi-channel mask as well, see\n",
    "#     https://github.com/CosmiQ/solaris/blob/master/docs/tutorials/notebooks/api_masks_tutorial.ipynb\n",
    "mode = 'Train'\n",
    "# mode = 'test'\n",
    "\n",
    "aois = sorted([f for f in os.listdir(os.path.join(root_dir, 'data',mode))\n",
    "               if os.path.isdir(os.path.join(root_dir, 'data',mode, f))])\n",
    "# print(aois)\n",
    "# # aois.remove(\"AOI_2_Vegas_\"+mode)\n",
    "aois.remove(\"AOI_3_Paris_Train\")\n",
    "aois.remove(\"AOI_4_Shanghai_Train\")\n",
    "aois.remove(\"AOI_5_Khartoum_Train\")\n",
    "n_threads = 10\n",
    "params = [] \n",
    "make_fbc = True\n",
    "\n",
    "input_args = []\n",
    "for i, aoi in enumerate(aois):\n",
    "    print(i, \"aoi:\", aoi)\n",
    "    im_dir = os.path.join(root_dir, 'data', mode, aoi, 'RGB-PanSharpen/')\n",
    "#     json_dir = os.path.join(root_dir,'data', 'test', aoi, 'geojson')\n",
    "    json_dir = os.path.join(root_dir,'data', mode, aoi, 'geojson','buildings')\n",
    "    out_dir_mask = os.path.join(root_dir, 'data', mode, aoi, 'masks/')\n",
    "    out_dir_mask_fbc = os.path.join(root_dir, 'data', mode, aoi, 'masks_fbc/')\n",
    "    os.makedirs(out_dir_mask, exist_ok=True)\n",
    "    if make_fbc:\n",
    "        os.makedirs(out_dir_mask_fbc, exist_ok=True)\n",
    "\n",
    "    json_files = sorted([f\n",
    "                for f in os.listdir(os.path.join(json_dir))\n",
    "#                 if f.endswith('Buildings.geojson') and os.path.exists(os.path.join(json_dir, f))])\n",
    "                if f.endswith('.geojson') and os.path.exists(os.path.join(json_dir, f))])\n",
    "    for j, f in enumerate(json_files):\n",
    "        # print(i, j, f)\n",
    "        name_root = f.split('.')[0]\n",
    "        json_path = os.path.join(json_dir, f)\n",
    "#         image_path = os.path.join(im_dir, name_root + '.tif').replace('labels', 'images').replace('_Buildings', '')\n",
    "        image_path = os.path.join(im_dir, name_root + '.tif').replace('buildings', 'RGB-PanSharpen')\n",
    "        output_path_mask = os.path.join(out_dir_mask, name_root + '.tif')\n",
    "        if make_fbc:\n",
    "            output_path_mask_fbc = os.path.join(out_dir_mask_fbc, name_root + '.tif')\n",
    "        else:\n",
    "            output_path_mask_fbc = None\n",
    "            \n",
    "        if (os.path.exists(output_path_mask)):\n",
    "             continue\n",
    "        else: \n",
    "            input_args.append([make_geojsons_and_masks, \n",
    "                               name_root, image_path, json_path,\n",
    "                               output_path_mask, output_path_mask_fbc])\n",
    "\n",
    "# execute \n",
    "print(\"len input_args\", len(input_args))\n",
    "print(\"Execute...\\n\")\n",
    "with multiprocessing.Pool(n_threads) as pool:\n",
    "    pool.map(map_wrapper, input_args)\n"
   ]
  },
  {
   "cell_type": "code",
   "execution_count": null,
   "metadata": {},
   "outputs": [],
   "source": [
    "# Inspect visually\n",
    "\n",
    "aoi = 'AOI_2_Vegas_Train'\n",
    "im_dir = os.path.join(root_dir, 'data', mode, aoi, 'RGB-PanSharpen')\n",
    "mask_dir = os.path.join(root_dir, 'data', mode, aoi, 'masks')\n",
    "\n",
    "im_list = sorted([z for z in os.listdir(im_dir) if z.endswith('.tif')])\n",
    "im_file = im_list[28]\n",
    "\n",
    "im_path = os.path.join(im_dir, im_file)\n",
    "mask_path = os.path.join(mask_dir, im_file.split('.')[0] + '.tif').replace('RGB-PanSharpen','buildings')\n",
    "im = skimage.io.imread(im_path)\n",
    "mask = skimage.io.imread(mask_path)\n",
    "print(np.max(mask))\n",
    "print(np.min(mask))\n",
    "print(type(mask))\n",
    "boundary = skimage.segmentation.find_boundaries(mask, mode='subpixel', background=0).astype(np.float32)\n",
    "print(type(boundary))\n",
    "print(np.max(boundary))\n",
    "print(np.min(boundary))\n",
    "figsize=(24, 12)\n",
    "# name = im_file.split('.')[0].split('global_monthly_')[-1]\n",
    "name = im_file.split('.')[0]\n",
    "fig, (ax0, ax1) = plt.subplots(1, 2, figsize=figsize)\n",
    "\n",
    "_ = ax0.imshow(mask)\n",
    "ax0.set_xticks([])\n",
    "ax0.set_yticks([])\n",
    "_ = ax0.set_title(name)\n",
    "\n",
    "_ = ax1.imshow(boundary)\n",
    "ax1.set_xticks([])\n",
    "ax1.set_yticks([])\n",
    "_ = ax1.set_title(name)\n",
    "_ = fig.suptitle(name)\n",
    "plt.tight_layout()"
   ]
  },
  {
   "cell_type": "code",
   "execution_count": null,
   "metadata": {},
   "outputs": [],
   "source": [
    "# make identifier plots\n",
    "\n",
    "aoi = 'AOI_3_Paris_Test'\n",
    "im_dir = os.path.join(root_dir,'data', 'test', aoi, 'RGB-PanSharpen')\n",
    "# json_dir = os.path.join(root_dir, 'data','test', aoi, 'geojson', 'buildings')\n",
    "json_dir = os.path.join(root_dir, 'data','test', aoi, 'geojson')\n",
    "\n",
    "# colors\n",
    "vmax = 200\n",
    "cmap = plt.get_cmap('hsv')  # 'jet'\n",
    "cNorm  = colors.Normalize(vmin=0, vmax=vmax)\n",
    "scalarMap = cmx.ScalarMappable(norm=cNorm, cmap=cmap)\n",
    "plot_only_first_and_last = True\n",
    "label_font_size = 4\n",
    "im_pix_size_x, im_pix_size_y = 650, 650\n",
    "figsize=(20,20)\n",
    "# print(json_dir)\n",
    "json_files = sorted([f\n",
    "            for f in os.listdir(json_dir) \n",
    "            if f.endswith('.geojson') and os.path.exists(os.path.join(json_dir, f))])\n",
    "# print(json_files)\n",
    "if plot_only_first_and_last:\n",
    "    json_files = [json_files[0], json_files[-1]]\n",
    "#     json_files = [json_files[1]]\n",
    "\n",
    "# convert json\n",
    "for j, f in enumerate(json_files):\n",
    "    # print(i, j, f)\n",
    "    name_root = f.split('.')[0]\n",
    "    json_path = os.path.join(json_dir, f)\n",
    "    image_path = os.path.join(im_dir, name_root + '.tif').replace('buildings', 'RGB-PanSharpen')\n",
    "    print(\"name_root:\", name_root)\n",
    "    # print(\"json_path\", json_path)\n",
    "    # output_path = os.path.join(out_dir, f)\n",
    "    # if os.path.exists(output_path):\n",
    "    #    print(\"  path exists, skipping:\", name_root)\n",
    "    #    continue\n",
    "    gdf_pix = vector.polygon.geojson_to_px_gdf(json_path, image_path, geom_col='geometry', precision=None, output_path=None, override_crs=False)\n",
    "    fig, ax = plt.subplots(figsize=figsize)\n",
    "    for _, row in gdf_pix.iterrows():\n",
    "        geom = row['geometry']\n",
    "        poly_id = row['Id']\n",
    "        x, y = geom.exterior.xy\n",
    "        cx, cy = np.array(geom.centroid.xy).astype(float)\n",
    "        #print(\"centroid:\", centroid)\n",
    "        color_int = int(poly_id) % vmax\n",
    "        colorVal = scalarMap.to_rgba(color_int)\n",
    "        ax.plot(x, y, c=colorVal)\n",
    "        # poly id\n",
    "        ax.annotate(str(poly_id), xy=(cx, cy), ha='center', size=label_font_size)\n",
    "        #text_object = plt.annotate(label, xy=(x_values[i], y_values[i]), ha='center')\n",
    "        #ax.text(cx, cy, str(poly_id))\n",
    "    ax.set_xlim(0, im_pix_size_x)\n",
    "    ax.set_ylim(0, im_pix_size_y)\n",
    "    title = str(j) + \" - \" + name_root + \" - N buildings = \" + str(len(gdf_pix))\n",
    "    ax.set_title(title)\n",
    "\n",
    "    plt.show()"
   ]
  },
  {
   "cell_type": "code",
   "execution_count": 6,
   "metadata": {},
   "outputs": [
    {
     "ename": "FileNotFoundError",
     "evalue": "[Errno 2] No such file or directory: '../data/train/AOI_2_Vegas_Train'",
     "output_type": "error",
     "traceback": [
      "\u001b[0;31m---------------------------------------------------------------------------\u001b[0m",
      "\u001b[0;31mFileNotFoundError\u001b[0m                         Traceback (most recent call last)",
      "\u001b[0;32m<ipython-input-6-4178abe239da>\u001b[0m in \u001b[0;36m<module>\u001b[0;34m\u001b[0m\n\u001b[1;32m      4\u001b[0m \u001b[0mos\u001b[0m\u001b[0;34m.\u001b[0m\u001b[0mmakedirs\u001b[0m\u001b[0;34m(\u001b[0m\u001b[0mout_dir\u001b[0m\u001b[0;34m,\u001b[0m \u001b[0mexist_ok\u001b[0m\u001b[0;34m=\u001b[0m\u001b[0;32mTrue\u001b[0m\u001b[0;34m)\u001b[0m\u001b[0;34m\u001b[0m\u001b[0;34m\u001b[0m\u001b[0m\n\u001b[1;32m      5\u001b[0m \u001b[0md\u001b[0m \u001b[0;34m=\u001b[0m \u001b[0mos\u001b[0m\u001b[0;34m.\u001b[0m\u001b[0mpath\u001b[0m\u001b[0;34m.\u001b[0m\u001b[0mjoin\u001b[0m\u001b[0;34m(\u001b[0m\u001b[0mroot_dir\u001b[0m\u001b[0;34m,\u001b[0m \u001b[0;34m'data'\u001b[0m\u001b[0;34m,\u001b[0m \u001b[0mmode\u001b[0m\u001b[0;34m,\u001b[0m \u001b[0;34m'AOI_2_Vegas_Train'\u001b[0m\u001b[0;34m)\u001b[0m\u001b[0;34m\u001b[0m\u001b[0;34m\u001b[0m\u001b[0m\n\u001b[0;32m----> 6\u001b[0;31m \u001b[0msubdirs\u001b[0m \u001b[0;34m=\u001b[0m \u001b[0msorted\u001b[0m\u001b[0;34m(\u001b[0m\u001b[0;34m[\u001b[0m\u001b[0mf\u001b[0m \u001b[0;32mfor\u001b[0m \u001b[0mf\u001b[0m \u001b[0;32min\u001b[0m \u001b[0mos\u001b[0m\u001b[0;34m.\u001b[0m\u001b[0mlistdir\u001b[0m\u001b[0;34m(\u001b[0m\u001b[0md\u001b[0m\u001b[0;34m)\u001b[0m\u001b[0;34m]\u001b[0m\u001b[0;34m)\u001b[0m\u001b[0;34m\u001b[0m\u001b[0;34m\u001b[0m\u001b[0m\n\u001b[0m\u001b[1;32m      7\u001b[0m \u001b[0moutpath\u001b[0m \u001b[0;34m=\u001b[0m \u001b[0mos\u001b[0m\u001b[0;34m.\u001b[0m\u001b[0mpath\u001b[0m\u001b[0;34m.\u001b[0m\u001b[0mjoin\u001b[0m\u001b[0;34m(\u001b[0m\u001b[0mout_dir\u001b[0m\u001b[0;34m,\u001b[0m \u001b[0;34m'solaris_unet_'\u001b[0m \u001b[0;34m+\u001b[0m \u001b[0mmode\u001b[0m \u001b[0;34m+\u001b[0m \u001b[0;34m'_df.csv'\u001b[0m\u001b[0;34m)\u001b[0m\u001b[0;34m\u001b[0m\u001b[0;34m\u001b[0m\u001b[0m\n\u001b[1;32m      8\u001b[0m \u001b[0mim_list\u001b[0m\u001b[0;34m,\u001b[0m \u001b[0mmask_list\u001b[0m \u001b[0;34m=\u001b[0m \u001b[0;34m[\u001b[0m\u001b[0;34m]\u001b[0m\u001b[0;34m,\u001b[0m \u001b[0;34m[\u001b[0m\u001b[0;34m]\u001b[0m\u001b[0;34m\u001b[0m\u001b[0;34m\u001b[0m\u001b[0m\n",
      "\u001b[0;31mFileNotFoundError\u001b[0m: [Errno 2] No such file or directory: '../data/train/AOI_2_Vegas_Train'"
     ]
    }
   ],
   "source": [
    "# Make dataframe csvs for train/test\n",
    "\n",
    "out_dir = os.path.join(root_dir, 'csvs/')\n",
    "os.makedirs(out_dir, exist_ok=True)\n",
    "d = os.path.join(root_dir, 'data', mode, 'AOI_2_Vegas_Train')\n",
    "subdirs = sorted([f for f in os.listdir(d)])    \n",
    "outpath = os.path.join(out_dir, 'solaris_unet_' + mode + '_df.csv')\n",
    "im_list, mask_list = [], []\n",
    "\n",
    "\n",
    "im_files = [os.path.join( d,'RGB-PanSharpen',  f.split('.')[0] + '.tif')\n",
    "for f in sorted(os.listdir(os.path.join(d,'RGB-PanSharpen' ).replace('masks','RGB-PanSharpen')))]\n",
    "\n",
    "mask_files = [os.path.join(d, 'masks', f.split('.')[0] + '.tif')\n",
    "for f in sorted(os.listdir(os.path.join(d, 'masks').replace('RGB-PanSharpen','masks')))]\n",
    "\n",
    "\n",
    "im_list.extend(im_files)\n",
    "mask_list.extend(mask_files)\n",
    "    \n",
    "\n",
    "df = pd.DataFrame({'image': im_list, 'label': mask_list})\n",
    "display(df.head())\n",
    "\n",
    "df.to_csv(outpath, index=False)\n",
    "print(mode, \"len df:\", len(df))\n",
    "print(\"output csv:\", outpath)"
   ]
  },
  {
   "cell_type": "code",
   "execution_count": null,
   "metadata": {},
   "outputs": [],
   "source": []
  }
 ],
 "metadata": {
  "kernelspec": {
   "display_name": "Python 3",
   "language": "python",
   "name": "python3"
  },
  "language_info": {
   "codemirror_mode": {
    "name": "ipython",
    "version": 3
   },
   "file_extension": ".py",
   "mimetype": "text/x-python",
   "name": "python",
   "nbconvert_exporter": "python",
   "pygments_lexer": "ipython3",
   "version": "3.7.8"
  }
 },
 "nbformat": 4,
 "nbformat_minor": 4
}
